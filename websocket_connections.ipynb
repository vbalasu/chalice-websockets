{
 "cells": [
  {
   "cell_type": "markdown",
   "metadata": {},
   "source": [
    "# Websocket Connections in Chalice\n",
    "#### Store connection ids in Postgres and send messages from Python to the browser"
   ]
  },
  {
   "cell_type": "code",
   "execution_count": 1,
   "metadata": {},
   "outputs": [],
   "source": [
    "import requests, json"
   ]
  },
  {
   "cell_type": "code",
   "execution_count": 2,
   "metadata": {},
   "outputs": [
    {
     "data": {
      "text/plain": [
       "<Response [200]>"
      ]
     },
     "execution_count": 2,
     "metadata": {},
     "output_type": "execute_result"
    }
   ],
   "source": [
    "response = requests.get('http://35.233.160.178:3000/websocket_connections')\n",
    "response"
   ]
  },
  {
   "cell_type": "code",
   "execution_count": 3,
   "metadata": {},
   "outputs": [
    {
     "data": {
      "text/plain": [
       "[{'id': 2,\n",
       "  'namespace': 'default',\n",
       "  'connection_id': 'x123',\n",
       "  'timestamp': '2021-02-09T19:17:27.786349+00:00'},\n",
       " {'id': 5,\n",
       "  'namespace': 'default',\n",
       "  'connection_id': 'a123',\n",
       "  'timestamp': '2021-02-09T19:31:00.991105+00:00'},\n",
       " {'id': 8,\n",
       "  'namespace': 'default',\n",
       "  'connection_id': 'a1234',\n",
       "  'timestamp': '2021-02-09T19:31:24.973468+00:00'}]"
      ]
     },
     "execution_count": 3,
     "metadata": {},
     "output_type": "execute_result"
    }
   ],
   "source": [
    "json.loads(response.content)"
   ]
  },
  {
   "cell_type": "code",
   "execution_count": 4,
   "metadata": {},
   "outputs": [
    {
     "data": {
      "text/plain": [
       "<Response [204]>"
      ]
     },
     "execution_count": 4,
     "metadata": {},
     "output_type": "execute_result"
    }
   ],
   "source": [
    "response = requests.delete('http://35.233.160.178:3000/websocket_connections?connection_id=eq.a123')\n",
    "response"
   ]
  },
  {
   "cell_type": "code",
   "execution_count": 5,
   "metadata": {},
   "outputs": [
    {
     "data": {
      "text/plain": [
       "<Response [201]>"
      ]
     },
     "execution_count": 5,
     "metadata": {},
     "output_type": "execute_result"
    }
   ],
   "source": [
    "response = requests.post('http://35.233.160.178:3000/websocket_connections', json={'connection_id': 'a123'})\n",
    "response"
   ]
  },
  {
   "cell_type": "code",
   "execution_count": 20,
   "metadata": {},
   "outputs": [
    {
     "name": "stdout",
     "output_type": "stream",
     "text": [
      "CPU times: user 65.7 ms, sys: 22.8 ms, total: 88.5 ms\n",
      "Wall time: 306 ms\n"
     ]
    },
    {
     "data": {
      "text/plain": [
       "{'ResponseMetadata': {'RequestId': '28035d50-9134-4778-82a7-c218ebd63b02',\n",
       "  'HTTPStatusCode': 200,\n",
       "  'HTTPHeaders': {'date': 'Tue, 09 Feb 2021 20:55:18 GMT',\n",
       "   'content-type': 'application/json',\n",
       "   'content-length': '0',\n",
       "   'connection': 'keep-alive',\n",
       "   'x-amzn-requestid': '28035d50-9134-4778-82a7-c218ebd63b02',\n",
       "   'x-amz-apigw-id': 'aft8kFLOPHcFwUw=',\n",
       "   'x-amzn-trace-id': 'Root=1-6022f6b6-05bf1e366c7d53a92ce36005'},\n",
       "  'RetryAttempts': 0}}"
      ]
     },
     "execution_count": 20,
     "metadata": {},
     "output_type": "execute_result"
    }
   ],
   "source": [
    "%%time\n",
    "import boto3\n",
    "from boto3.session import Session\n",
    "session = Session(profile_name='vbalasubramaniam_awscli')\n",
    "connection_id = 'aftycfV1PHcCI7w='\n",
    "apig = session.client('apigatewaymanagementapi', endpoint_url='https://akpgdwbu6b.execute-api.us-west-2.amazonaws.com/api/')\n",
    "apig.post_to_connection(Data='hello from Jupyter', ConnectionId=connection_id)"
   ]
  }
 ],
 "metadata": {
  "kernelspec": {
   "display_name": "Python 3",
   "language": "python",
   "name": "python3"
  },
  "language_info": {
   "codemirror_mode": {
    "name": "ipython",
    "version": 3
   },
   "file_extension": ".py",
   "mimetype": "text/x-python",
   "name": "python",
   "nbconvert_exporter": "python",
   "pygments_lexer": "ipython3",
   "version": "3.8.3"
  }
 },
 "nbformat": 4,
 "nbformat_minor": 4
}
